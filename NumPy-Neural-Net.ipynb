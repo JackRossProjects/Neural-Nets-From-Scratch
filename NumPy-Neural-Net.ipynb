{
 "cells": [
  {
   "cell_type": "markdown",
   "metadata": {},
   "source": [
    "<h1>Neural Network from Scratch with NumPy</h1>\n",
    "<h2>Jack Ross</h2><br>\n",
    "\n",
    "![Neural Network](https://www.cdn.geeksforgeeks.org/wp-content/uploads/neuralNet.png)\n",
    "\n",
    "<h2>So what is a neural network?</h2>\n",
    "<p>Simply put, a neural network is a mathematical function that maps a given input to a desired output.<br>\n",
    "A neural network consists of the following parts:<br>\n",
    "- Input layer, x<br>\n",
    "- Hidden layers<br>\n",
    "- Output layer ŷ<br>\n",
    "- Weights and biases betweeen each later, W and b<br>\n",
    "- Activation function for each hidden layer</p><br>"
   ]
  },
  {
   "cell_type": "markdown",
   "metadata": {},
   "source": [
    "<h2>To fully understand neural networks, lets build a few from scratch.<br><br>\n",
    "The first one we'll be building is called a perceptron.</h2>\n",
    "<p>A perceptron is able to classify linearly separable data.\n",
    "    \n",
    "Linearly separable data is the type of data which can be separated by a hyperplane in n-dimensional space.</p>\n",
    "<br><br>\n",
    "<h2>Our goal is to predict if a random person is obese or not.<br>\n",
    "\n",
    "Here is our dataset:<br></h2>\n",
    "\n",
    "![dataset](https://i.gyazo.com/e46cef207f88d157c5d4eddab4b0b077.png)\n",
    "\n",
    "<br>\n",
    "<p>In the above table, we have five columns: Person, Smoking, Obesity, Exercise, and Diabetic. Here 1 refers to true and 0 refers to false. For instance, the first person has values of 0, 1, 0 which means that the person doesn't smoke, is obese, and doesn't exercise. The person is also diabetic.</p>"
   ]
  },
  {
   "cell_type": "markdown",
   "metadata": {},
   "source": [
    "<h1>Feed Forward</h1>\n",
    "<p>Since we have 3 features in our dataset (smoking, obesity, exercise) we will have 3 nodes in the first layer (known as the input layer) in our network. For each input feature, we have 1 weight.</p>\n",
    "\n",
    "<h2>Feed Forward Step 1: Calculate the dot product between input and weights</h2>\n",
    "<p>The nodes in the input layer (smoking, obesity, exercise) are connected with the output layer with 3 weight parameters. In the output layer, the values in the input nodes are multiplied with their corresponding weights and are added together. Finally, the bias term is added to the sum.</p>\n",
    "<h3>Bias</h3>\n",
    "<p>Suppose we have a person in our dataset who doesn't smoke, isn't obese, and doesn't exercise, the sum of the products of the input nodes and weights will be zero everytime. Therefore, to be able to make predictions, even if we do not have any non zero data about he person, we need a bias. In step one of Feed Forward, we perform the following calculations:</p><br>\n",
    "\n",
    "![steponecalculations](https://i.gyazo.com/b67dcf93fd727bb8eafceac325f5040b.png)\n",
    "\n",
    "<h2>Feed Forward Step 2: Pass the result from step 1 through an activation function</h2>\n",
    "<p>The result form step one could be any set of values but for out output we need values in the form of 1 and 0 to keep the same format. We need an activation function to squish the input value between 0 and 1. One activation function we'll be looking at is the sigmoid function.</p>\n",
    "\n",
    "<h3>Activation Functions: Sigmoid</h3>\n",
    "<p>The sigmoid function has a characteristic S-shaped or \"sigmoid\" curve and returns 0.5 when the input is 0. It returns a value close to 1 if the input is a large positive number. In case of negative input, the sigmoid function outputs a value close to 0. We can represent the sigmoid activation function mathematically as:</p><br>\n",
    "\n",
    "![sigmoidmath](https://i.gyazo.com/3957ff564628de0add993705b961ed05.png)\n",
    "\n",
    "<h2>Let's plot the sigmoid function:</h2>"
   ]
  },
  {
   "cell_type": "code",
   "execution_count": 2,
   "metadata": {},
   "outputs": [
    {
     "data": {
      "text/plain": [
       "[<matplotlib.lines.Line2D at 0x7f93aea83748>]"
      ]
     },
     "execution_count": 2,
     "metadata": {},
     "output_type": "execute_result"
    },
    {
     "data": {
      "image/png": "[encoded data removed]",
      "text/plain": [
       "<Figure size 432x288 with 1 Axes>"
      ]
     },
     "metadata": {},
     "output_type": "display_data"
    }
   ],
   "source": [
    "import numpy as np\n",
    "input = np.linspace(-10, 10, 100)\n",
    "\n",
    "def sigmoid(x):\n",
    "    return 1/(1+np.exp(-x))\n",
    "\n",
    "from matplotlib import pyplot as plt\n",
    "plt.plot(input, sigmoid(input), c=\"r\")"
   ]
  },
  {
   "cell_type": "markdown",
   "metadata": {},
   "source": [
    "<h2>Feed Forward Summary</h2>\n",
    "<p>1.) Find the dot product of the input feature matrix and the weight matrix.<br>\n",
    "   2.) Pass the result from the output through an activation function. (Sigmoid)<br>\n",
    "   3.) The result of the activation function is the predicted output for the input features.</p>\n",
    "   \n",
    "![feed forward](https://dzone.com/storage/temp/7913024-general.png)"
   ]
  },
  {
   "cell_type": "markdown",
   "metadata": {},
   "source": [
    "<h1>Back Propagation</h1>\n",
    "<p>Before your neural network makes any predictions, it makes a lot of random ones which are nowhere near correct. We let it make random predictions about the output in the beginning and then we compare the predicted output against the actual output. The we fine-tune our weights and the bias in such a way that our predicted output becomes closer to the actual output. \n",
    "    \n",
    "This is known as training the neural network.</p>"
   ]
  },
  {
   "cell_type": "markdown",
   "metadata": {},
   "source": [
    "<h3>Back Propagation Step 1: Calculating the cost</h3>\n",
    "<p>First we must find the \"cost\" of the predictions. The cost can be calculated by finding the difference between the predicted output and the actual output. The higher the difference, the higher the cost.\n",
    "    \n",
    "<h4>Cost Function: Mean Squared Error</h4>\n",
    "<p>We will use the mean squared error function to find the cost of our predictions. It can be represented mathematically as:</p>\n",
    "\n",
    "![cost function](https://i.gyazo.com/65c4a711b0b94000a4ee5fa7f0eb59d6.png)\n",
    "\n",
    "<br>\n",
    "\n",
    "<h3>Back Propagation Step 2: Minimizing the cost</h3>\n",
    "<p>To minimize the cost, we need to find the bias and weight values that make the cost function as small as possible. The smaller the cost, the more correct the predictions are. Since this is an \"optimization problem\" (problem of finding the best solution from all feasible solutions) where we have to find the \"function minima\" (the smallest value of the function), we can use the gradient decent algorithm. Gradient decent can be mathematically expressed as:</p>\n",
    "\n",
    "![Gradient decent](https://i.gyazo.com/36a8c9fb11f15b27e0072866efd09bde.png)\n",
    "\n",
    "<p>Here in the above equation, J is the cost function. Basically what the above equation says is: find the partial derivative of the cost function with respect to each weight and bias and subtract the result from the existing weight values to get the new weight values.\n",
    "\n",
    "The derivative of a function gives us its slope at any given point. To find if the cost increases or decreases, given the weight value, we can find the derivative of the function at that particular weight value. If the cost increases with the increase in weight, the derivative will return a positive value which will then be subtracted from the existing value.\n",
    "\n",
    "On the other hand, if the cost is decreasing with an increase in weight, a negative value will be returned, which will be added to the existing weight value since negative into negative is positive.\n",
    "\n",
    "In Equation 1, we can see there is an alpha symbol, which is multiplied by the gradient. This is called the learning rate. We need to keep executing Equation 1 until we get values for bias and weights, for which the cost function returns a value close to zero.</p>"
   ]
  },
  {
   "cell_type": "markdown",
   "metadata": {},
   "source": [
    "<h1>Implementation</h1>\n",
    "<br>\n",
    "<h3>First we create our feature set and the corresponding labels.</h3>"
   ]
  },
  {
   "cell_type": "code",
   "execution_count": 3,
   "metadata": {},
   "outputs": [],
   "source": [
    "feature_set = np.array([[0,1,0],[0,0,1],[1,0,0],[1,1,0],[1,1,1]])\n",
    "labels = np.array([[1,0,0,1,1]])\n",
    "labels = labels.reshape(5,1)"
   ]
  },
  {
   "cell_type": "markdown",
   "metadata": {},
   "source": [
    "<h3>Define the hyper parameters</h3>\n",
    "<p>We'll use the random.seed function so that we can get the same random values whenever the script is executed. We initialize the weights with normally distributed random numbers. Since we have 3 input features (smoking, obesity, exercise), we will have a vector of 3 weights. We then initialize the bias value with another random number and then set the learning rate to 0.05.</p></p>"
   ]
  },
  {
   "cell_type": "code",
   "execution_count": 4,
   "metadata": {},
   "outputs": [],
   "source": [
    "np.random.seed(42)\n",
    "weights = np.random.rand(3,1)\n",
    "bias = np.random.rand(1)\n",
    "lr = 0.05"
   ]
  },
  {
   "cell_type": "markdown",
   "metadata": {},
   "source": [
    "<h3>Define (sigmoid) activation function</h3>"
   ]
  },
  {
   "cell_type": "code",
   "execution_count": 5,
   "metadata": {},
   "outputs": [],
   "source": [
    "def sigmoid(x):\n",
    "    return 1/(1+np.exp(-x))"
   ]
  },
  {
   "cell_type": "markdown",
   "metadata": {},
   "source": [
    "<h3>Define the (sigmoid) activation functions derivative</h3>\n",
    "<p>The derivative is simply: sigmoid(x) * sigmoid(1-x)</p>"
   ]
  },
  {
   "cell_type": "code",
   "execution_count": 6,
   "metadata": {},
   "outputs": [],
   "source": [
    "def sigmoid_der(x):\n",
    "    return sigmoid(x)*(1-sigmoid(x))"
   ]
  },
  {
   "cell_type": "markdown",
   "metadata": {},
   "source": [
    "<h3>Training the neural network</h3>\n",
    "<p>1.) We define the number of epochs. (An epoch is the number of times we want to train the algorithm on our data)<br>\n",
    "   2.) Store the values from the feature_set to the input variable. (This is step 1 of Feed Forward)<br>\n",
    "   3.) Pass the dot product through the sigmoid activation function. (This is step 2 of Feed Forward)<br>\n",
    "   4.) Find the error and print it. (This is step 1 of Back Propagation)<br>\n",
    "       - We need to differentiate this function with respect to each weight.<br>\n",
    "       - Do this using the chain rule of differentiation. Here:<br>\n",
    "    \n",
    "   ![chainrule](https://i.gyazo.com/2850b4b715d853321471ebe2135237c2.png)\n",
    "   \n",
    "   <br>\n",
    "   \n",
    "   4.5) Next we have to find:\n",
    "   \n",
    "   ![dpred](https://i.gyazo.com/a2fd22bc8a4605edc910c4af08cee1db.png)\n",
    "   \n",
    "   <br>\n",
    "   \n",
    "   Here \"d_pred\" is just the sigmoid function and we have differentiated it with respect to the input dot product \"z\".<br>\n",
    "   \n",
    "   5.) Finally we need to find:<br>\n",
    "   \n",
    "   ![dzdw](https://i.gyazo.com/7ae7e26c199cf88df53681c6dda5e239.png)\n",
    "   \n",
    "   <br>\n",
    "   \n",
    "   6.) We have the z_delta variable, which contains the product of dcost_dpred and dpred_dz. Instead of looping through each record and multiplying the input with corresponding z_delta, we take the transpose of the input feature matrix and multiply it with the z_delta. Finally, we multiply the learning rate variable lr with the derivative to increase the speed of convergence.\n",
    "\n",
    "</p>"
   ]
  },
  {
   "cell_type": "code",
   "execution_count": 7,
   "metadata": {},
   "outputs": [],
   "source": [
    "for epoch in range(20000):\n",
    "    inputs = feature_set\n",
    "\n",
    "    # feedforward step1\n",
    "    XW = np.dot(feature_set, weights) + bias\n",
    "\n",
    "    #feedforward step2\n",
    "    z = sigmoid(XW)\n",
    "\n",
    "\n",
    "    # backpropagation step 1\n",
    "    error = z - labels\n",
    "\n",
    "    #print(error.sum())\n",
    "\n",
    "    # backpropagation step 2\n",
    "    dcost_dpred = error\n",
    "    dpred_dz = sigmoid_der(z)\n",
    "\n",
    "    z_delta = dcost_dpred * dpred_dz\n",
    "\n",
    "    inputs = feature_set.T\n",
    "    weights -= lr * np.dot(inputs, z_delta)\n",
    "\n",
    "    for num in z_delta:\n",
    "        bias -= lr * num"
   ]
  },
  {
   "cell_type": "markdown",
   "metadata": {},
   "source": [
    "<h3>Predict the value of a single instance</h3>\n",
    "<p>Suppose we have a record of a patient that comes in who smokes, is not obese, and doesn't exercise. Let's find if he is likely to be diabetic or not. The input feature will look like this: [1,0,0].</p>"
   ]
  },
  {
   "cell_type": "code",
   "execution_count": 8,
   "metadata": {},
   "outputs": [
    {
     "name": "stdout",
     "output_type": "stream",
     "text": [
      "[0.00707584]\n"
     ]
    }
   ],
   "source": [
    "single_point = np.array([1,0,0])\n",
    "result = sigmoid(np.dot(single_point, weights) + bias)\n",
    "print(result)"
   ]
  },
  {
   "cell_type": "markdown",
   "metadata": {},
   "source": [
    "<p>You can see that the person is likely not diabetic since the value is much closer to 0 than 1.\n",
    "\n",
    "Now let's test another person who doesn't, smoke, is obese, and doesn't exercises. The input feature vector will be [0,1,0].</p>"
   ]
  },
  {
   "cell_type": "code",
   "execution_count": 9,
   "metadata": {},
   "outputs": [
    {
     "name": "stdout",
     "output_type": "stream",
     "text": [
      "[0.99837029]\n"
     ]
    }
   ],
   "source": [
    "single_point = np.array([0,1,0])\n",
    "result = sigmoid(np.dot(single_point, weights) + bias)\n",
    "print(result)"
   ]
  },
  {
   "cell_type": "markdown",
   "metadata": {},
   "source": [
    "<p>You can see that the value is very close to 1, which is likely due to the person's obesity.</p>"
   ]
  },
  {
   "cell_type": "markdown",
   "metadata": {},
   "source": [
    "<h1>Conclusion</h1>\n",
    "<p>You did it! We created a very simple neural network with one input and one output layer from scratch in Python. Such a neural network is simply called a perceptron. A perceptron is able to classify linearly separable data like what we used for our input feature vector. Come to my page soon to see more complex models from scratch!</p>"
   ]
  }
 ],
 "metadata": {
  "kernelspec": {
   "display_name": "Python 3",
   "language": "python",
   "name": "python3"
  },
  "language_info": {
   "codemirror_mode": {
    "name": "ipython",
    "version": 3
   },
   "file_extension": ".py",
   "mimetype": "text/x-python",
   "name": "python",
   "nbconvert_exporter": "python",
   "pygments_lexer": "ipython3",
   "version": "3.6.8"
  }
 },
 "nbformat": 4,
 "nbformat_minor": 2
}
